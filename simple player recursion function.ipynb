{
 "cells": [
  {
   "cell_type": "code",
   "execution_count": 5,
   "id": "aa6b8f16-b162-4645-8c01-973102262175",
   "metadata": {},
   "outputs": [
    {
     "name": "stdin",
     "output_type": "stream",
     "text": [
      "enter a number: 3\n"
     ]
    },
    {
     "name": "stdout",
     "output_type": "stream",
     "text": [
      "\n",
      " Player A's turn. current number 3\n"
     ]
    },
    {
     "name": "stdin",
     "output_type": "stream",
     "text": [
      "Player A, subtract 1 or 2: 2\n"
     ]
    },
    {
     "name": "stdout",
     "output_type": "stream",
     "text": [
      "\n",
      " Player B's turn. current number 1\n"
     ]
    },
    {
     "name": "stdin",
     "output_type": "stream",
     "text": [
      "Player B, subtract 1 or 2: 1\n"
     ]
    },
    {
     "name": "stdout",
     "output_type": "stream",
     "text": [
      "player A reached 0!! Player A losses 🙁😮\n"
     ]
    }
   ],
   "source": [
    "def player_A(n):\n",
    "    if n<=0:\n",
    "        print(\"player A reached 0!! Player A losses 🙁😮\")\n",
    "        return\n",
    "    print(f\"\\n Player A's turn. current number {n}\")\n",
    "    move=int(input(\"Player A, subtract 1 or 2:\"))\n",
    "    while move not in[1,2]:\n",
    "        move=int(input(\"player A, subtract 1 or 2:\"))\n",
    "    player_B(n-move)\n",
    "def player_B(n):\n",
    "    if n<=0:\n",
    "        print(\"player B reached 0!! Player B losses \")\n",
    "        return\n",
    "    print(f\"\\n Player B's turn. current number {n}\")\n",
    "    move=int(input(\"Player B, subtract 1 or 2:\"))\n",
    "    while move not in[1,2]:\n",
    "        move=int(input(\"player B, subtract 1 or 2:\"))\n",
    "    player_A(n-move)\n",
    "start=int(input(\"enter a number:\"))\n",
    "player_A(start)"
   ]
  },
  {
   "cell_type": "code",
   "execution_count": null,
   "id": "ad5d3093-13c3-4f66-832d-9e87f7fb8a17",
   "metadata": {},
   "outputs": [],
   "source": []
  }
 ],
 "metadata": {
  "kernelspec": {
   "display_name": "Python 3 (ipykernel)",
   "language": "python",
   "name": "python3"
  },
  "language_info": {
   "codemirror_mode": {
    "name": "ipython",
    "version": 3
   },
   "file_extension": ".py",
   "mimetype": "text/x-python",
   "name": "python",
   "nbconvert_exporter": "python",
   "pygments_lexer": "ipython3",
   "version": "3.12.7"
  }
 },
 "nbformat": 4,
 "nbformat_minor": 5
}
